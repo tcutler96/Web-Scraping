{
 "cells": [
  {
   "cell_type": "markdown",
   "metadata": {},
   "source": [
    "#### Import necessary libraries"
   ]
  },
  {
   "cell_type": "code",
   "execution_count": 152,
   "metadata": {
    "ExecuteTime": {
     "end_time": "2020-10-07T12:00:15.071539Z",
     "start_time": "2020-10-07T12:00:15.067550Z"
    }
   },
   "outputs": [],
   "source": [
    "import requests\n",
    "from bs4 import BeautifulSoup as bs\n",
    "import re\n",
    "import pandas as pd\n",
    "from IPython.core.interactiveshell import InteractiveShell\n",
    "InteractiveShell.ast_node_interactivity = \"all\""
   ]
  },
  {
   "cell_type": "markdown",
   "metadata": {},
   "source": [
    "#### Load first page"
   ]
  },
  {
   "cell_type": "code",
   "execution_count": 153,
   "metadata": {
    "ExecuteTime": {
     "end_time": "2020-10-07T12:00:15.303430Z",
     "start_time": "2020-10-07T12:00:15.072537Z"
    }
   },
   "outputs": [
    {
     "name": "stdout",
     "output_type": "stream",
     "text": [
      "<html>\n",
      " <head>\n",
      "  <title>\n",
      "   HTML Example\n",
      "  </title>\n",
      " </head>\n",
      " <body>\n",
      "  <div align=\"middle\">\n",
      "   <h1>\n",
      "    HTML Webpage\n",
      "   </h1>\n",
      "   <p>\n",
      "    Link to more interesting example:\n",
      "    <a href=\"https://keithgalli.github.io/web-scraping/webpage.html\">\n",
      "     keithgalli.github.io/web-scraping/webpage.html\n",
      "    </a>\n",
      "   </p>\n",
      "  </div>\n",
      "  <h2>\n",
      "   A Header\n",
      "  </h2>\n",
      "  <p>\n",
      "   <i>\n",
      "    Some italicized text\n",
      "   </i>\n",
      "  </p>\n",
      "  <h2>\n",
      "   Another header\n",
      "  </h2>\n",
      "  <p id=\"paragraph-id\">\n",
      "   <b>\n",
      "    Some bold text\n",
      "   </b>\n",
      "  </p>\n",
      " </body>\n",
      "</html>\n",
      "\n"
     ]
    }
   ],
   "source": [
    "# load webpage content\n",
    "url = 'https://keithgalli.github.io/web-scraping/'\n",
    "r = requests.get(url + 'example.html')\n",
    "\n",
    "# convert to beautiful soup object\n",
    "soup = bs(r.content)\n",
    "\n",
    "# print out html\n",
    "print(soup.prettify())"
   ]
  },
  {
   "cell_type": "markdown",
   "metadata": {},
   "source": [
    "#### Start using beautiful soup to scrape\n",
    "##### find and find_all"
   ]
  },
  {
   "cell_type": "code",
   "execution_count": 154,
   "metadata": {
    "ExecuteTime": {
     "end_time": "2020-10-07T12:00:15.318389Z",
     "start_time": "2020-10-07T12:00:15.305424Z"
    }
   },
   "outputs": [
    {
     "data": {
      "text/plain": [
       "<h2>A Header</h2>"
      ]
     },
     "execution_count": 154,
     "metadata": {},
     "output_type": "execute_result"
    },
    {
     "data": {
      "text/plain": [
       "[<h2>A Header</h2>, <h2>Another header</h2>]"
      ]
     },
     "execution_count": 154,
     "metadata": {},
     "output_type": "execute_result"
    }
   ],
   "source": [
    "# find and find_all\n",
    "first_header = soup.find('h2')\n",
    "first_header\n",
    "\n",
    "headers = soup.find_all('h2')\n",
    "headers"
   ]
  },
  {
   "cell_type": "code",
   "execution_count": 155,
   "metadata": {
    "ExecuteTime": {
     "end_time": "2020-10-07T12:00:15.333350Z",
     "start_time": "2020-10-07T12:00:15.319387Z"
    }
   },
   "outputs": [
    {
     "data": {
      "text/plain": [
       "<h1>HTML Webpage</h1>"
      ]
     },
     "execution_count": 155,
     "metadata": {},
     "output_type": "execute_result"
    },
    {
     "data": {
      "text/plain": [
       "[<h1>HTML Webpage</h1>, <h2>A Header</h2>, <h2>Another header</h2>]"
      ]
     },
     "execution_count": 155,
     "metadata": {},
     "output_type": "execute_result"
    }
   ],
   "source": [
    "# pass in a list of elements to look for\n",
    "first_header = soup.find(['h1', 'h2'])  # order does not matter\n",
    "first_header\n",
    "\n",
    "headers = soup.find_all(['h1', 'h2'])\n",
    "headers"
   ]
  },
  {
   "cell_type": "code",
   "execution_count": 156,
   "metadata": {
    "ExecuteTime": {
     "end_time": "2020-10-07T12:00:15.349307Z",
     "start_time": "2020-10-07T12:00:15.334347Z"
    }
   },
   "outputs": [
    {
     "data": {
      "text/plain": [
       "[<p id=\"paragraph-id\"><b>Some bold text</b></p>]"
      ]
     },
     "execution_count": 156,
     "metadata": {},
     "output_type": "execute_result"
    }
   ],
   "source": [
    "# pass in attributes\n",
    "paragraph = soup.find_all('p', attrs={'id': 'paragraph-id'})\n",
    "paragraph"
   ]
  },
  {
   "cell_type": "code",
   "execution_count": 157,
   "metadata": {
    "ExecuteTime": {
     "end_time": "2020-10-07T12:00:15.365264Z",
     "start_time": "2020-10-07T12:00:15.350304Z"
    }
   },
   "outputs": [
    {
     "data": {
      "text/plain": [
       "<h1>HTML Webpage</h1>"
      ]
     },
     "execution_count": 157,
     "metadata": {},
     "output_type": "execute_result"
    }
   ],
   "source": [
    "# nested calls\n",
    "body = soup.find('body')\n",
    "div = body.find('div')\n",
    "header = div.find('h1')\n",
    "header"
   ]
  },
  {
   "cell_type": "code",
   "execution_count": 158,
   "metadata": {
    "ExecuteTime": {
     "end_time": "2020-10-07T12:00:15.380224Z",
     "start_time": "2020-10-07T12:00:15.366262Z"
    }
   },
   "outputs": [
    {
     "data": {
      "text/plain": [
       "[<p><i>Some italicized text</i></p>,\n",
       " <p id=\"paragraph-id\"><b>Some bold text</b></p>]"
      ]
     },
     "execution_count": 158,
     "metadata": {},
     "output_type": "execute_result"
    },
    {
     "data": {
      "text/plain": [
       "[<h2>A Header</h2>, <h2>Another header</h2>]"
      ]
     },
     "execution_count": 158,
     "metadata": {},
     "output_type": "execute_result"
    }
   ],
   "source": [
    "# search for specific strings\n",
    "paragraphs = soup.find_all('p', string=re.compile('Some'))\n",
    "paragraphs\n",
    "\n",
    "headers = soup.find_all('h2', string=re.compile('(H|h)eader'))\n",
    "headers"
   ]
  },
  {
   "cell_type": "markdown",
   "metadata": {},
   "source": [
    "##### select (CSS selector)"
   ]
  },
  {
   "cell_type": "code",
   "execution_count": 159,
   "metadata": {
    "ExecuteTime": {
     "end_time": "2020-10-07T12:00:15.396181Z",
     "start_time": "2020-10-07T12:00:15.381222Z"
    }
   },
   "outputs": [
    {
     "data": {
      "text/plain": [
       "[<p>Link to more interesting example: <a href=\"https://keithgalli.github.io/web-scraping/webpage.html\">keithgalli.github.io/web-scraping/webpage.html</a></p>]"
      ]
     },
     "execution_count": 159,
     "metadata": {},
     "output_type": "execute_result"
    }
   ],
   "source": [
    "# paragraphs within divs\n",
    "paragraphs = soup.select('div p')\n",
    "paragraphs"
   ]
  },
  {
   "cell_type": "code",
   "execution_count": 160,
   "metadata": {
    "ExecuteTime": {
     "end_time": "2020-10-07T12:00:15.411141Z",
     "start_time": "2020-10-07T12:00:15.397179Z"
    }
   },
   "outputs": [
    {
     "data": {
      "text/plain": [
       "[<p><i>Some italicized text</i></p>,\n",
       " <p id=\"paragraph-id\"><b>Some bold text</b></p>]"
      ]
     },
     "execution_count": 160,
     "metadata": {},
     "output_type": "execute_result"
    }
   ],
   "source": [
    "# paragraphs followings header2s\n",
    "paragraphs = soup.select('h2 ~ p')\n",
    "paragraphs"
   ]
  },
  {
   "cell_type": "code",
   "execution_count": 161,
   "metadata": {
    "ExecuteTime": {
     "end_time": "2020-10-07T12:00:15.426101Z",
     "start_time": "2020-10-07T12:00:15.412139Z"
    }
   },
   "outputs": [
    {
     "data": {
      "text/plain": [
       "[<b>Some bold text</b>]"
      ]
     },
     "execution_count": 161,
     "metadata": {},
     "output_type": "execute_result"
    }
   ],
   "source": [
    "# bold element following id\n",
    "bold_text = soup.select('p#paragraph-id b')\n",
    "bold_text"
   ]
  },
  {
   "cell_type": "code",
   "execution_count": 162,
   "metadata": {
    "ExecuteTime": {
     "end_time": "2020-10-07T12:00:15.441061Z",
     "start_time": "2020-10-07T12:00:15.427099Z"
    }
   },
   "outputs": [
    {
     "name": "stdout",
     "output_type": "stream",
     "text": [
      "[<p><i>Some italicized text</i></p>, <p id=\"paragraph-id\"><b>Some bold text</b></p>]\n",
      "[<i>Some italicized text</i>]\n",
      "[]\n"
     ]
    }
   ],
   "source": [
    "# nested calls\n",
    "paragraphs = soup.select('body > p')\n",
    "print(paragraphs)\n",
    "\n",
    "for paragraph in paragraphs:\n",
    "    print(paragraph.select('i'))"
   ]
  },
  {
   "cell_type": "code",
   "execution_count": 163,
   "metadata": {
    "ExecuteTime": {
     "end_time": "2020-10-07T12:00:15.456021Z",
     "start_time": "2020-10-07T12:00:15.442059Z"
    }
   },
   "outputs": [
    {
     "data": {
      "text/plain": [
       "[<div align=\"middle\">\n",
       " <h1>HTML Webpage</h1>\n",
       " <p>Link to more interesting example: <a href=\"https://keithgalli.github.io/web-scraping/webpage.html\">keithgalli.github.io/web-scraping/webpage.html</a></p>\n",
       " </div>]"
      ]
     },
     "execution_count": 163,
     "metadata": {},
     "output_type": "execute_result"
    }
   ],
   "source": [
    "# grab element with specific property\n",
    "soup.select('[align=middle]')"
   ]
  },
  {
   "cell_type": "markdown",
   "metadata": {},
   "source": [
    "##### Get different properties of the HTML "
   ]
  },
  {
   "cell_type": "code",
   "execution_count": 164,
   "metadata": {
    "ExecuteTime": {
     "end_time": "2020-10-07T12:00:15.471978Z",
     "start_time": "2020-10-07T12:00:15.457019Z"
    }
   },
   "outputs": [
    {
     "data": {
      "text/plain": [
       "'A Header'"
      ]
     },
     "execution_count": 164,
     "metadata": {},
     "output_type": "execute_result"
    },
    {
     "name": "stdout",
     "output_type": "stream",
     "text": [
      "\n",
      "HTML Webpage\n",
      "Link to more interesting example: keithgalli.github.io/web-scraping/webpage.html\n",
      "\n"
     ]
    }
   ],
   "source": [
    "# single child element\n",
    "header = soup.find('h2')\n",
    "header.string\n",
    "\n",
    "# multiple child elements\n",
    "div = soup.find('div')\n",
    "print(div.get_text())"
   ]
  },
  {
   "cell_type": "code",
   "execution_count": 165,
   "metadata": {
    "ExecuteTime": {
     "end_time": "2020-10-07T12:00:15.487936Z",
     "start_time": "2020-10-07T12:00:15.472976Z"
    }
   },
   "outputs": [
    {
     "data": {
      "text/plain": [
       "'https://keithgalli.github.io/web-scraping/webpage.html'"
      ]
     },
     "execution_count": 165,
     "metadata": {},
     "output_type": "execute_result"
    },
    {
     "data": {
      "text/plain": [
       "'paragraph-id'"
      ]
     },
     "execution_count": 165,
     "metadata": {},
     "output_type": "execute_result"
    }
   ],
   "source": [
    "# get specific property from element\n",
    "link = soup.find('a')\n",
    "link['href']\n",
    "\n",
    "paragraphs = soup.select('p#paragraph-id')\n",
    "paragraphs[0]['id']"
   ]
  },
  {
   "cell_type": "markdown",
   "metadata": {},
   "source": [
    "#### Code navigation"
   ]
  },
  {
   "cell_type": "code",
   "execution_count": 166,
   "metadata": {
    "ExecuteTime": {
     "end_time": "2020-10-07T12:00:15.503893Z",
     "start_time": "2020-10-07T12:00:15.488933Z"
    }
   },
   "outputs": [
    {
     "data": {
      "text/plain": [
       "'HTML Webpage'"
      ]
     },
     "execution_count": 166,
     "metadata": {},
     "output_type": "execute_result"
    }
   ],
   "source": [
    "# path syntax\n",
    "soup.body.div.h1.string"
   ]
  },
  {
   "cell_type": "code",
   "execution_count": 167,
   "metadata": {
    "ExecuteTime": {
     "end_time": "2020-10-07T12:00:15.519850Z",
     "start_time": "2020-10-07T12:00:15.504890Z"
    }
   },
   "outputs": [
    {
     "data": {
      "text/plain": [
       "[<h2>A Header</h2>,\n",
       " <p><i>Some italicized text</i></p>,\n",
       " <h2>Another header</h2>,\n",
       " <p id=\"paragraph-id\"><b>Some bold text</b></p>]"
      ]
     },
     "execution_count": 167,
     "metadata": {},
     "output_type": "execute_result"
    }
   ],
   "source": [
    "# parent, sibling, child\n",
    "soup.body.find('div').find_next_siblings()"
   ]
  },
  {
   "cell_type": "markdown",
   "metadata": {},
   "source": [
    "#### Exercises\n",
    "##### Load webpage"
   ]
  },
  {
   "cell_type": "code",
   "execution_count": 168,
   "metadata": {
    "ExecuteTime": {
     "end_time": "2020-10-07T12:00:15.724313Z",
     "start_time": "2020-10-07T12:00:15.520848Z"
    }
   },
   "outputs": [
    {
     "name": "stdout",
     "output_type": "stream",
     "text": [
      "<bound method Tag.prettify of <html><head>\n",
      "<title>Keith Galli's Page</title>\n",
      "<style>\n",
      "  table {\n",
      "    border-collapse: collapse;\n",
      "  }\n",
      "  th {\n",
      "    padding:5px;\n",
      "  }\n",
      "  td {\n",
      "    border: 1px solid #ddd;\n",
      "    padding: 5px;\n",
      "  }\n",
      "  tr:nth-child(even) {\n",
      "    background-color: #f2f2f2;\n",
      "  }\n",
      "  th {\n",
      "    padding-top: 12px;\n",
      "    padding-bottom: 12px;\n",
      "    text-align: left;\n",
      "    background-color: #add8e6;\n",
      "    color: black;\n",
      "  }\n",
      "  .block {\n",
      "  width: 100px;\n",
      "  /*float: left;*/\n",
      "    display: inline-block;\n",
      "    zoom: 1;\n",
      "  }\n",
      "  .column {\n",
      "  float: left;\n",
      "  height: 200px;\n",
      "  /*width: 33.33%;*/\n",
      "  padding: 5px;\n",
      "  }\n",
      "\n",
      "  .row::after {\n",
      "    content: \"\";\n",
      "    clear: both;\n",
      "    display: table;\n",
      "  }\n",
      "</style>\n",
      "</head>\n",
      "<body>\n",
      "<h1>Welcome to my page!</h1>\n",
      "<img src=\"./images/selfie1.jpg\" width=\"300px\"/>\n",
      "<h2>About me</h2>\n",
      "<p>Hi, my name is Keith and I am a YouTuber who focuses on content related to programming, data science, and machine learning!</p>\n",
      "<p>Here is a link to my channel: <a href=\"https://www.youtube.com/kgmit\">youtube.com/kgmit</a></p>\n",
      "<p>I grew up in the great state of New Hampshire here in the USA. From an early age I always loved math. Around my senior year of high school, my brother first introduced me to programming. I found it a creative way to apply the same type of logical thinking skills that I enjoyed with math. This influenced me to study computer science in college and ultimately create a YouTube channel to share some things that I have learned along the way.</p>\n",
      "<h3>Hobbies</h3>\n",
      "<p>Believe it or not, I don't code 24/7. I love doing all sorts of active things. I like to play ice hockey &amp; table tennis as well as run, hike, skateboard, and snowboard. In addition to sports, I am a board game enthusiast. The two that I've been playing the most recently are <i>Settlers of Catan</i> and <i>Othello</i>.</p>\n",
      "<h3>Fun Facts</h3>\n",
      "<ul class=\"fun-facts\">\n",
      "<li>Owned my dream car in high school <a href=\"#footer\"><sup>1</sup></a></li>\n",
      "<li>Middle name is Ronald</li>\n",
      "<li>Never had been on a plane until college</li>\n",
      "<li>Dunkin Donuts coffee is better than Starbucks</li>\n",
      "<li>A favorite book series of mine is <i>Ender's Game</i></li>\n",
      "<li>Current video game of choice is <i>Rocket League</i></li>\n",
      "<li>The band that I've seen the most times live is the <i>Zac Brown Band</i></li>\n",
      "</ul>\n",
      "<h2>Social Media</h2>\n",
      "  I encourage you to check out my content on all social media platforms\n",
      "  <br/>\n",
      "<ul class=\"socials\">\n",
      "<li class=\"social instagram\"><b>Instagram: </b><a href=\"https://www.instagram.com/keithgalli/\">https://www.instagram.com/keithgalli/</a></li>\n",
      "<li class=\"social twitter\"><b>Twitter: </b><a href=\"https://twitter.com/keithgalli\">https://twitter.com/keithgalli</a></li>\n",
      "<li class=\"social linkedin\"><b>LinkedIn: </b><a href=\"https://www.linkedin.com/in/keithgalli/\">https://www.linkedin.com/in/keithgalli/</a></li>\n",
      "<li class=\"social tiktok\"><b>TikTok: </b><a href=\"https://www.tiktok.com/@keithgalli\">https://www.tiktok.com/@keithgalli</a></li>\n",
      "</ul>\n",
      "<h2>Photos</h2>\n",
      "  Here are a few photos from a trip to italy I took last year\n",
      "  <div class=\"row\">\n",
      "<div class=\"column\">\n",
      "<img alt=\"Lake Como\" src=\"images/italy/lake_como.jpg\" style=\"height:100%\"/>\n",
      "</div>\n",
      "<div class=\"column\">\n",
      "<img alt=\"Pontevecchio, Florence\" src=\"images/italy/pontevecchio.jpg\" style=\"height:100%\"/>\n",
      "</div>\n",
      "<div class=\"column\">\n",
      "<img alt=\"Riomaggiore, Cinque de Terre\" src=\"images/italy/riomaggiore.jpg\" style=\"height:100%\"/>\n",
      "</div>\n",
      "</div>\n",
      "<div></div>\n",
      "<h2> Table </h2>\n",
      "  My MIT hockey stats :) \n",
      "  <br/>\n",
      "<table class=\"hockey-stats\">\n",
      "<thead>\n",
      "<tr>\n",
      "<th class=\"season\" data-sort=\"\">S</th>\n",
      "<th class=\"team\" data-sort=\"team\">Team</th>\n",
      "<th class=\"league\" data-sort=\"league\">League</th>\n",
      "<th class=\"regular gp\" data-sort=\"gp\">GP</th>\n",
      "<th class=\"regular g\" data-sort=\"g\">G</th>\n",
      "<th class=\"regular a\" data-sort=\"a\">A</th>\n",
      "<th class=\"regular tp\" data-sort=\"tp\">TP</th>\n",
      "<th class=\"regular pim\" data-sort=\"pim\">PIM</th>\n",
      "<th class=\"regular pm\" data-sort=\"pm\">+/-</th>\n",
      "<th class=\"separator\"> </th>\n",
      "<th class=\"postseason\">POST</th>\n",
      "<th class=\"postseason gp\" data-sort=\"playoffs-gp\">GP</th>\n",
      "<th class=\"postseason g\" data-sort=\"playoffs-g\">G</th>\n",
      "<th class=\"postseason a\" data-sort=\"playoffs-a\">A</th>\n",
      "<th class=\"postseason tp\" data-sort=\"playoffs-tp\">TP</th>\n",
      "<th class=\"postseason pim\" data-sort=\"playoffs-pim\">PIM</th>\n",
      "<th class=\"postseason pm\" data-sort=\"playoffs-pm\">+/-</th>\n",
      "</tr>\n",
      "</thead>\n",
      "<tbody>\n",
      "<tr class=\"team-continent-NA\">\n",
      "<td class=\"season sorted\">\n",
      "                  2014-15\n",
      "              </td>\n",
      "<td class=\"team\">\n",
      "<i><img src=\"images/flag.png\"/></i>\n",
      "<span class=\"txt-blue\">\n",
      "<a href=\"https://www.eliteprospects.com/team/10263/mit-mass.-inst.-of-tech./2014-2015?tab=stats\"> MIT (Mass. Inst. of Tech.) </a>\n",
      "</span>\n",
      "</td>\n",
      "<td class=\"league\"> <a href=\"https://www.eliteprospects.com/league/acha-ii/stats/2014-2015\"> ACHA II </a> </td>\n",
      "<td class=\"regular gp\">17</td>\n",
      "<td class=\"regular g\">3</td>\n",
      "<td class=\"regular a\">9</td>\n",
      "<td class=\"regular tp\">12</td>\n",
      "<td class=\"regular pim\">20</td>\n",
      "<td class=\"regular pm\"></td>\n",
      "<td class=\"separator\"> | </td>\n",
      "<td class=\"postseason\">\n",
      "<a href=\"https://www.eliteprospects.com/league/acha-ii/stats/2014-2015\"> </a>\n",
      "</td>\n",
      "<td class=\"postseason gp\">\n",
      "</td>\n",
      "<td class=\"postseason g\">\n",
      "</td>\n",
      "<td class=\"postseason a\">\n",
      "</td>\n",
      "<td class=\"postseason tp\">\n",
      "</td>\n",
      "<td class=\"postseason pim\">\n",
      "</td>\n",
      "<td class=\"postseason pm\">\n",
      "</td>\n",
      "</tr>\n",
      "<tr class=\"team-continent-NA\">\n",
      "<td class=\"season sorted\">\n",
      "                  2015-16\n",
      "              </td>\n",
      "<td class=\"team\">\n",
      "<i><img src=\"images/flag.png\"/></i>\n",
      "<span class=\"txt-blue\">\n",
      "<a href=\"https://www.eliteprospects.com/team/10263/mit-mass.-inst.-of-tech./2015-2016?tab=stats\"> MIT (Mass. Inst. of Tech.) </a>\n",
      "</span>\n",
      "</td>\n",
      "<td class=\"league\"> <a href=\"https://www.eliteprospects.com/league/acha-ii/stats/2015-2016\"> ACHA II </a> </td>\n",
      "<td class=\"regular gp\">9</td>\n",
      "<td class=\"regular g\">1</td>\n",
      "<td class=\"regular a\">1</td>\n",
      "<td class=\"regular tp\">2</td>\n",
      "<td class=\"regular pim\">2</td>\n",
      "<td class=\"regular pm\"></td>\n",
      "<td class=\"separator\"> | </td>\n",
      "<td class=\"postseason\">\n",
      "<a href=\"https://www.eliteprospects.com/league/acha-ii/stats/2015-2016\"> </a>\n",
      "</td>\n",
      "<td class=\"postseason gp\">\n",
      "</td>\n",
      "<td class=\"postseason g\">\n",
      "</td>\n",
      "<td class=\"postseason a\">\n",
      "</td>\n",
      "<td class=\"postseason tp\">\n",
      "</td>\n",
      "<td class=\"postseason pim\">\n",
      "</td>\n",
      "<td class=\"postseason pm\">\n",
      "</td>\n",
      "</tr>\n",
      "<tr class=\"team-continent-NA\">\n",
      "<td class=\"season sorted\">\n",
      "                  2016-17\n",
      "              </td>\n",
      "<td class=\"team\">\n",
      "<i><img src=\"images/flag.png\"/></i>\n",
      "<span class=\"txt-blue\">\n",
      "<a href=\"https://www.eliteprospects.com/team/10263/mit-mass.-inst.-of-tech./2016-2017?tab=stats\"> MIT (Mass. Inst. of Tech.) </a>\n",
      "</span>\n",
      "</td>\n",
      "<td class=\"league\"> <a href=\"https://www.eliteprospects.com/league/acha-ii/stats/2016-2017\"> ACHA II </a> </td>\n",
      "<td class=\"regular gp\">12</td>\n",
      "<td class=\"regular g\">5</td>\n",
      "<td class=\"regular a\">5</td>\n",
      "<td class=\"regular tp\">10</td>\n",
      "<td class=\"regular pim\">8</td>\n",
      "<td class=\"regular pm\">0</td>\n",
      "<td class=\"separator\"> | </td>\n",
      "<td class=\"postseason\">\n",
      "</td>\n",
      "<td class=\"postseason gp\">\n",
      "</td>\n",
      "<td class=\"postseason g\">\n",
      "</td>\n",
      "<td class=\"postseason a\">\n",
      "</td>\n",
      "<td class=\"postseason tp\">\n",
      "</td>\n",
      "<td class=\"postseason pim\">\n",
      "</td>\n",
      "<td class=\"postseason pm\">\n",
      "</td>\n",
      "</tr>\n",
      "<tr class=\"team-continent-EU\">\n",
      "<td class=\"season sorted\">\n",
      "                  2017-18\n",
      "              </td>\n",
      "<td class=\"team\">\n",
      "                  Did not play\n",
      "              </td>\n",
      "<td class=\"league\"> <a href=\"https://www.eliteprospects.com/stats\"> </a> </td>\n",
      "<td class=\"regular gp\"></td>\n",
      "<td class=\"regular g\"></td>\n",
      "<td class=\"regular a\"></td>\n",
      "<td class=\"regular tp\"></td>\n",
      "<td class=\"regular pim\"></td>\n",
      "<td class=\"regular pm\"></td>\n",
      "<td class=\"separator\"> | </td>\n",
      "<td class=\"postseason\">\n",
      "<a href=\"https://www.eliteprospects.com/stats\"> </a>\n",
      "</td>\n",
      "<td class=\"postseason gp\">\n",
      "</td>\n",
      "<td class=\"postseason g\">\n",
      "</td>\n",
      "<td class=\"postseason a\">\n",
      "</td>\n",
      "<td class=\"postseason tp\">\n",
      "</td>\n",
      "<td class=\"postseason pim\">\n",
      "</td>\n",
      "<td class=\"postseason pm\">\n",
      "</td>\n",
      "</tr>\n",
      "<tr class=\"team-continent-NA\">\n",
      "<td class=\"season sorted\">\n",
      "                  2018-19\n",
      "              </td>\n",
      "<td class=\"team\">\n",
      "<i><img src=\"images/flag.png\"/></i>\n",
      "<span class=\"txt-blue\">\n",
      "<a href=\"https://www.eliteprospects.com/team/10263/mit-mass.-inst.-of-tech./2018-2019?tab=stats\"> MIT (Mass. Inst. of Tech.) </a>\n",
      "</span>\n",
      "</td>\n",
      "<td class=\"league\"> <a href=\"https://www.eliteprospects.com/league/acha-iii/stats/2018-2019\"> ACHA III </a> </td>\n",
      "<td class=\"regular gp\">8</td>\n",
      "<td class=\"regular g\">5</td>\n",
      "<td class=\"regular a\">10</td>\n",
      "<td class=\"regular tp\">15</td>\n",
      "<td class=\"regular pim\">8</td>\n",
      "<td class=\"regular pm\"></td>\n",
      "<td class=\"separator\"> | </td>\n",
      "<td class=\"postseason\">\n",
      "<a href=\"https://www.eliteprospects.com/league/acha-iii/stats/2018-2019\"> </a>\n",
      "</td>\n",
      "<td class=\"postseason gp\">\n",
      "</td>\n",
      "<td class=\"postseason g\">\n",
      "</td>\n",
      "<td class=\"postseason a\">\n",
      "</td>\n",
      "<td class=\"postseason tp\">\n",
      "</td>\n",
      "<td class=\"postseason pim\">\n",
      "</td>\n",
      "<td class=\"postseason pm\">\n",
      "</td>\n",
      "</tr>\n",
      "</tbody>\n",
      "</table>\n",
      "<h2>Mystery Message Challenge!</h2>\n",
      "<p>If you scrape the links below grabbing the &lt;p&gt; tag with id=\"secret-word\", you'll discover a secret message :)</p>\n",
      "<div width=\"50%\">\n",
      "<div align=\"left\" class=\"block\">\n",
      "<ul>\n",
      "<li><a href=\"challenge/file_1.html\">File 1</a></li>\n",
      "<li><a href=\"challenge/file_2.html\">File 2</a></li>\n",
      "<li><a href=\"challenge/file_3.html\">File 3</a></li>\n",
      "<li><a href=\"challenge/file_4.html\">File 4</a></li>\n",
      "<li><a href=\"challenge/file_5.html\">File 5</a></li>\n",
      "</ul>\n",
      "</div>\n",
      "<div align=\"center\" class=\"block\">\n",
      "<ul>\n",
      "<li><a href=\"challenge/file_6.html\">File 6</a></li>\n",
      "<li><a href=\"challenge/file_7.html\">File 7</a></li>\n",
      "<li><a href=\"challenge/file_8.html\">File 8</a></li>\n",
      "<li><a href=\"challenge/file_9.html\">File 9</a></li>\n",
      "<li><a href=\"challenge/file_10.html\">File 10</a></li>\n",
      "</ul>\n",
      "</div>\n",
      "</div>\n",
      "<h2>Footnotes</h2>\n",
      "<p id=\"footer\">1. This was actually a minivan that I named Debora. Maybe not my dream car, but I loved her nonetheless.</p>\n",
      "</body>\n",
      "</html>>\n"
     ]
    }
   ],
   "source": [
    "# load webpage content\n",
    "r = requests.get('https://keithgalli.github.io/web-scraping/webpage.html')\n",
    "\n",
    "# convert to beautiful soup object\n",
    "webpage = bs(r.content)\n",
    "\n",
    "print(webpage.prettify)"
   ]
  },
  {
   "cell_type": "markdown",
   "metadata": {},
   "source": [
    "##### Grab all of the social links from the web page, in at least three different ways"
   ]
  },
  {
   "cell_type": "code",
   "execution_count": 169,
   "metadata": {
    "ExecuteTime": {
     "end_time": "2020-10-07T12:00:15.739273Z",
     "start_time": "2020-10-07T12:00:15.725310Z"
    }
   },
   "outputs": [
    {
     "data": {
      "text/plain": [
       "['https://www.instagram.com/keithgalli/',\n",
       " 'https://twitter.com/keithgalli',\n",
       " 'https://www.linkedin.com/in/keithgalli/',\n",
       " 'https://www.tiktok.com/@keithgalli']"
      ]
     },
     "execution_count": 169,
     "metadata": {},
     "output_type": "execute_result"
    }
   ],
   "source": [
    "# select links from unordered list with socials class\n",
    "links = webpage.select('ul.socials a')\n",
    "links = [link['href'] for link in links]\n",
    "links"
   ]
  },
  {
   "cell_type": "code",
   "execution_count": 170,
   "metadata": {
    "ExecuteTime": {
     "end_time": "2020-10-07T12:00:15.754738Z",
     "start_time": "2020-10-07T12:00:15.739781Z"
    }
   },
   "outputs": [
    {
     "data": {
      "text/plain": [
       "['https://www.instagram.com/keithgalli/',\n",
       " 'https://twitter.com/keithgalli',\n",
       " 'https://www.linkedin.com/in/keithgalli/',\n",
       " 'https://www.tiktok.com/@keithgalli']"
      ]
     },
     "execution_count": 170,
     "metadata": {},
     "output_type": "execute_result"
    }
   ],
   "source": [
    "# find links from unordered list with socials class\n",
    "links = webpage.find('ul', attrs={'class': 'socials'}).find_all('a')\n",
    "links = [link['href'] for link in links]\n",
    "links"
   ]
  },
  {
   "cell_type": "code",
   "execution_count": 171,
   "metadata": {
    "ExecuteTime": {
     "end_time": "2020-10-07T12:00:15.769697Z",
     "start_time": "2020-10-07T12:00:15.755735Z"
    }
   },
   "outputs": [
    {
     "data": {
      "text/plain": [
       "['https://www.instagram.com/keithgalli/',\n",
       " 'https://twitter.com/keithgalli',\n",
       " 'https://www.linkedin.com/in/keithgalli/',\n",
       " 'https://www.tiktok.com/@keithgalli']"
      ]
     },
     "execution_count": 171,
     "metadata": {},
     "output_type": "execute_result"
    }
   ],
   "source": [
    "# select links from lists with social class\n",
    "links = webpage.select('li.social a')\n",
    "links = [link['href'] for link in links]\n",
    "links"
   ]
  },
  {
   "cell_type": "markdown",
   "metadata": {},
   "source": [
    "##### Scrape the table on the web page into a pandas data frame"
   ]
  },
  {
   "cell_type": "code",
   "execution_count": 172,
   "metadata": {
    "ExecuteTime": {
     "end_time": "2020-10-07T12:00:15.800615Z",
     "start_time": "2020-10-07T12:00:15.770695Z"
    }
   },
   "outputs": [
    {
     "data": {
      "text/html": [
       "<div>\n",
       "<style scoped>\n",
       "    .dataframe tbody tr th:only-of-type {\n",
       "        vertical-align: middle;\n",
       "    }\n",
       "\n",
       "    .dataframe tbody tr th {\n",
       "        vertical-align: top;\n",
       "    }\n",
       "\n",
       "    .dataframe thead th {\n",
       "        text-align: right;\n",
       "    }\n",
       "</style>\n",
       "<table border=\"1\" class=\"dataframe\">\n",
       "  <thead>\n",
       "    <tr style=\"text-align: right;\">\n",
       "      <th></th>\n",
       "      <th>S</th>\n",
       "      <th>Team</th>\n",
       "      <th>League</th>\n",
       "      <th>GP</th>\n",
       "      <th>G</th>\n",
       "      <th>A</th>\n",
       "      <th>TP</th>\n",
       "      <th>PIM</th>\n",
       "      <th>+/-</th>\n",
       "      <th></th>\n",
       "      <th>POST</th>\n",
       "      <th>GP</th>\n",
       "      <th>G</th>\n",
       "      <th>A</th>\n",
       "      <th>TP</th>\n",
       "      <th>PIM</th>\n",
       "      <th>+/-</th>\n",
       "    </tr>\n",
       "  </thead>\n",
       "  <tbody>\n",
       "    <tr>\n",
       "      <th>0</th>\n",
       "      <td>2014-15</td>\n",
       "      <td>MIT (Mass. Inst. of Tech.)</td>\n",
       "      <td>ACHA II</td>\n",
       "      <td>17</td>\n",
       "      <td>3</td>\n",
       "      <td>9</td>\n",
       "      <td>12</td>\n",
       "      <td>20</td>\n",
       "      <td></td>\n",
       "      <td>|</td>\n",
       "      <td></td>\n",
       "      <td></td>\n",
       "      <td></td>\n",
       "      <td></td>\n",
       "      <td></td>\n",
       "      <td></td>\n",
       "      <td></td>\n",
       "    </tr>\n",
       "    <tr>\n",
       "      <th>1</th>\n",
       "      <td>2015-16</td>\n",
       "      <td>MIT (Mass. Inst. of Tech.)</td>\n",
       "      <td>ACHA II</td>\n",
       "      <td>9</td>\n",
       "      <td>1</td>\n",
       "      <td>1</td>\n",
       "      <td>2</td>\n",
       "      <td>2</td>\n",
       "      <td></td>\n",
       "      <td>|</td>\n",
       "      <td></td>\n",
       "      <td></td>\n",
       "      <td></td>\n",
       "      <td></td>\n",
       "      <td></td>\n",
       "      <td></td>\n",
       "      <td></td>\n",
       "    </tr>\n",
       "    <tr>\n",
       "      <th>2</th>\n",
       "      <td>2016-17</td>\n",
       "      <td>MIT (Mass. Inst. of Tech.)</td>\n",
       "      <td>ACHA II</td>\n",
       "      <td>12</td>\n",
       "      <td>5</td>\n",
       "      <td>5</td>\n",
       "      <td>10</td>\n",
       "      <td>8</td>\n",
       "      <td>0</td>\n",
       "      <td>|</td>\n",
       "      <td></td>\n",
       "      <td></td>\n",
       "      <td></td>\n",
       "      <td></td>\n",
       "      <td></td>\n",
       "      <td></td>\n",
       "      <td></td>\n",
       "    </tr>\n",
       "    <tr>\n",
       "      <th>4</th>\n",
       "      <td>2018-19</td>\n",
       "      <td>MIT (Mass. Inst. of Tech.)</td>\n",
       "      <td>ACHA III</td>\n",
       "      <td>8</td>\n",
       "      <td>5</td>\n",
       "      <td>10</td>\n",
       "      <td>15</td>\n",
       "      <td>8</td>\n",
       "      <td></td>\n",
       "      <td>|</td>\n",
       "      <td></td>\n",
       "      <td></td>\n",
       "      <td></td>\n",
       "      <td></td>\n",
       "      <td></td>\n",
       "      <td></td>\n",
       "      <td></td>\n",
       "    </tr>\n",
       "  </tbody>\n",
       "</table>\n",
       "</div>"
      ],
      "text/plain": [
       "         S                        Team    League  GP  G   A  TP PIM +/-     \\\n",
       "0  2014-15  MIT (Mass. Inst. of Tech.)   ACHA II  17  3   9  12  20      |   \n",
       "1  2015-16  MIT (Mass. Inst. of Tech.)   ACHA II   9  1   1   2   2      |   \n",
       "2  2016-17  MIT (Mass. Inst. of Tech.)   ACHA II  12  5   5  10   8   0  |   \n",
       "4  2018-19  MIT (Mass. Inst. of Tech.)  ACHA III   8  5  10  15   8      |   \n",
       "\n",
       "  POST GP G A TP PIM +/-  \n",
       "0                         \n",
       "1                         \n",
       "2                         \n",
       "4                         "
      ]
     },
     "execution_count": 172,
     "metadata": {},
     "output_type": "execute_result"
    }
   ],
   "source": [
    "# get table\n",
    "table = webpage.select('table.hockey-stats')[0]\n",
    "\n",
    "# get columns\n",
    "columns = table.find('thead').find_all('th')\n",
    "# get column names\n",
    "column_names = [column.string for column in columns]\n",
    "\n",
    "# get rows\n",
    "rows = table.find('tbody').find_all('tr')\n",
    "\n",
    "# put data into a pandas data frame\n",
    "l = []\n",
    "for tr in rows:\n",
    "    td = tr.find_all('td')\n",
    "    row = [str(tr.get_text()).strip() for tr in td]\n",
    "    l.append(row)\n",
    "\n",
    "df = pd.DataFrame(l, columns=column_names)\n",
    "df.loc[df['Team'] != 'Did not play']"
   ]
  },
  {
   "cell_type": "markdown",
   "metadata": {},
   "source": [
    "##### Grab all the fun facts that use the word \"is\""
   ]
  },
  {
   "cell_type": "code",
   "execution_count": 173,
   "metadata": {
    "ExecuteTime": {
     "end_time": "2020-10-07T12:00:15.815574Z",
     "start_time": "2020-10-07T12:00:15.801613Z"
    }
   },
   "outputs": [
    {
     "data": {
      "text/plain": [
       "['Middle name is Ronald',\n",
       " 'Dunkin Donuts coffee is better than Starbucks',\n",
       " \"A favorite book series of mine is Ender's Game\",\n",
       " 'Current video game of choice is Rocket League',\n",
       " \"The band that I've seen the most times live is the Zac Brown Band\"]"
      ]
     },
     "execution_count": 173,
     "metadata": {},
     "output_type": "execute_result"
    }
   ],
   "source": [
    "# gets fun facts\n",
    "facts = webpage.select('ul.fun-facts li')\n",
    "# filters for strings containing \"is\"\n",
    "facts = [fact.find(string=re.compile('is')) for fact in facts]\n",
    "# preserves italic text\n",
    "facts = [fact.find_parent().get_text() for fact in facts if fact]\n",
    "facts"
   ]
  },
  {
   "cell_type": "markdown",
   "metadata": {},
   "source": [
    "##### Download an image"
   ]
  },
  {
   "cell_type": "code",
   "execution_count": 186,
   "metadata": {
    "ExecuteTime": {
     "end_time": "2020-10-07T12:07:28.691405Z",
     "start_time": "2020-10-07T12:07:27.786825Z"
    }
   },
   "outputs": [
    {
     "data": {
      "text/plain": [
       "[<img alt=\"Lake Como\" src=\"images/italy/lake_como.jpg\" style=\"height:100%\"/>,\n",
       " <img alt=\"Pontevecchio, Florence\" src=\"images/italy/pontevecchio.jpg\" style=\"height:100%\"/>,\n",
       " <img alt=\"Riomaggiore, Cinque de Terre\" src=\"images/italy/riomaggiore.jpg\" style=\"height:100%\"/>]"
      ]
     },
     "execution_count": 186,
     "metadata": {},
     "output_type": "execute_result"
    },
    {
     "data": {
      "text/plain": [
       "'https://keithgalli.github.io/web-scraping/images/italy/lake_como.jpg'"
      ]
     },
     "execution_count": 186,
     "metadata": {},
     "output_type": "execute_result"
    },
    {
     "data": {
      "text/plain": [
       "'Lake Como'"
      ]
     },
     "execution_count": 186,
     "metadata": {},
     "output_type": "execute_result"
    },
    {
     "data": {
      "text/plain": [
       "1369133"
      ]
     },
     "execution_count": 186,
     "metadata": {},
     "output_type": "execute_result"
    },
    {
     "data": {
      "text/plain": [
       "'https://keithgalli.github.io/web-scraping/images/italy/pontevecchio.jpg'"
      ]
     },
     "execution_count": 186,
     "metadata": {},
     "output_type": "execute_result"
    },
    {
     "data": {
      "text/plain": [
       "'Pontevecchio, Florence'"
      ]
     },
     "execution_count": 186,
     "metadata": {},
     "output_type": "execute_result"
    },
    {
     "data": {
      "text/plain": [
       "1308720"
      ]
     },
     "execution_count": 186,
     "metadata": {},
     "output_type": "execute_result"
    },
    {
     "data": {
      "text/plain": [
       "'https://keithgalli.github.io/web-scraping/images/italy/riomaggiore.jpg'"
      ]
     },
     "execution_count": 186,
     "metadata": {},
     "output_type": "execute_result"
    },
    {
     "data": {
      "text/plain": [
       "'Riomaggiore, Cinque de Terre'"
      ]
     },
     "execution_count": 186,
     "metadata": {},
     "output_type": "execute_result"
    },
    {
     "data": {
      "text/plain": [
       "683430"
      ]
     },
     "execution_count": 186,
     "metadata": {},
     "output_type": "execute_result"
    }
   ],
   "source": [
    "# gets images\n",
    "images = webpage.select('div.row div.column img')\n",
    "images\n",
    "\n",
    "# loop through images\n",
    "for image in images:\n",
    "    image_url = url + image['src']\n",
    "    image_url\n",
    "    image_name = image['alt']\n",
    "    image_name\n",
    "    \n",
    "    # saves image\n",
    "    image_data = requests.get(image_url).content\n",
    "    with open(image_name + '.jpg', 'wb') as handler:\n",
    "        handler.write(image_data)"
   ]
  },
  {
   "cell_type": "markdown",
   "metadata": {},
   "source": [
    "##### Solve the mystery challenge"
   ]
  },
  {
   "cell_type": "code",
   "execution_count": 225,
   "metadata": {
    "ExecuteTime": {
     "end_time": "2020-10-07T13:52:17.558720Z",
     "start_time": "2020-10-07T13:52:15.216441Z"
    }
   },
   "outputs": [
    {
     "data": {
      "text/plain": [
       "['challenge/file_1.html',\n",
       " 'challenge/file_2.html',\n",
       " 'challenge/file_3.html',\n",
       " 'challenge/file_4.html',\n",
       " 'challenge/file_5.html',\n",
       " 'challenge/file_6.html',\n",
       " 'challenge/file_7.html',\n",
       " 'challenge/file_8.html',\n",
       " 'challenge/file_9.html',\n",
       " 'challenge/file_10.html']"
      ]
     },
     "execution_count": 225,
     "metadata": {},
     "output_type": "execute_result"
    },
    {
     "data": {
      "text/plain": [
       "'Make sure to smash that like button and subscribe !!!'"
      ]
     },
     "execution_count": 225,
     "metadata": {},
     "output_type": "execute_result"
    }
   ],
   "source": [
    "# gets links\n",
    "links = webpage.select('div.block a')\n",
    "links = [link['href'] for link in links]\n",
    "links\n",
    "\n",
    "message = ''\n",
    "for link in links:\n",
    "    r = requests.get(url + link)\n",
    "    page = bs(r.content)\n",
    "    word = page.find('p', attrs={'id': 'secret-word'}).string\n",
    "    message = message + str(word) + ' '\n",
    "message = message[:-1]\n",
    "message"
   ]
  }
 ],
 "metadata": {
  "hide_input": false,
  "kernelspec": {
   "display_name": "Python 3",
   "language": "python",
   "name": "python3"
  },
  "language_info": {
   "codemirror_mode": {
    "name": "ipython",
    "version": 3
   },
   "file_extension": ".py",
   "mimetype": "text/x-python",
   "name": "python",
   "nbconvert_exporter": "python",
   "pygments_lexer": "ipython3",
   "version": "3.7.6"
  },
  "toc": {
   "base_numbering": 1,
   "nav_menu": {},
   "number_sections": true,
   "sideBar": true,
   "skip_h1_title": false,
   "title_cell": "Table of Contents",
   "title_sidebar": "Contents",
   "toc_cell": false,
   "toc_position": {},
   "toc_section_display": true,
   "toc_window_display": false
  },
  "varInspector": {
   "cols": {
    "lenName": 16,
    "lenType": 16,
    "lenVar": 40
   },
   "kernels_config": {
    "python": {
     "delete_cmd_postfix": "",
     "delete_cmd_prefix": "del ",
     "library": "var_list.py",
     "varRefreshCmd": "print(var_dic_list())"
    },
    "r": {
     "delete_cmd_postfix": ") ",
     "delete_cmd_prefix": "rm(",
     "library": "var_list.r",
     "varRefreshCmd": "cat(var_dic_list()) "
    }
   },
   "position": {
    "height": "724px",
    "left": "1382px",
    "right": "20px",
    "top": "118px",
    "width": "458px"
   },
   "types_to_exclude": [
    "module",
    "function",
    "builtin_function_or_method",
    "instance",
    "_Feature"
   ],
   "window_display": false
  }
 },
 "nbformat": 4,
 "nbformat_minor": 4
}
